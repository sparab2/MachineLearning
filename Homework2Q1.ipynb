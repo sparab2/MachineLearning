{
  "nbformat": 4,
  "nbformat_minor": 0,
  "metadata": {
    "colab": {
      "provenance": [],
      "authorship_tag": "ABX9TyPiE6Pt4xyQzmjtnGgBw5DP",
      "include_colab_link": true
    },
    "kernelspec": {
      "name": "python3",
      "display_name": "Python 3"
    },
    "language_info": {
      "name": "python"
    }
  },
  "cells": [
    {
      "cell_type": "markdown",
      "metadata": {
        "id": "view-in-github",
        "colab_type": "text"
      },
      "source": [
        "<a href=\"https://colab.research.google.com/github/sparab2/MachineLearning/blob/main/Homework2Q1.ipynb\" target=\"_parent\"><img src=\"https://colab.research.google.com/assets/colab-badge.svg\" alt=\"Open In Colab\"/></a>"
      ]
    },
    {
      "cell_type": "code",
      "source": [
        "import pandas as pd\n",
        "from sklearn.model_selection import train_test_split\n",
        "from sklearn.preprocessing import StandardScaler\n",
        "from sklearn.linear_model import LogisticRegression\n",
        "from sklearn.metrics import accuracy_score, precision_score, recall_score, confusion_matrix\n",
        "import matplotlib.pyplot as plt\n",
        "import seaborn as sns\n",
        "import numpy as np"
      ],
      "metadata": {
        "id": "ac4AubU8rYJz"
      },
      "execution_count": null,
      "outputs": []
    },
    {
      "cell_type": "code",
      "source": [
        "# Load the diabetes dataset\n",
        "df = pd.read_csv('https://raw.githubusercontent.com/sparab2/MachineLearning/main/diabetes.csv')"
      ],
      "metadata": {
        "id": "6AYtVH58sLXZ"
      },
      "execution_count": null,
      "outputs": []
    },
    {
      "cell_type": "code",
      "source": [
        "# Split the dataset into training and test sets\n",
        "X_train, X_test, y_train, y_test = train_test_split(df.drop('Outcome', axis=1), df['Outcome'], test_size=0.2, random_state=42)"
      ],
      "metadata": {
        "id": "Ol7t-Ai_sYFM"
      },
      "execution_count": null,
      "outputs": []
    },
    {
      "cell_type": "code",
      "source": [
        "class LogisticRegressionGradientDescent:\n",
        "    def __init__(self, learning_rate=0.01, max_iter=100):\n",
        "        self.learning_rate = learning_rate\n",
        "        self.max_iter = max_iter\n",
        "        self.weights = None\n",
        "        self.bias = None\n",
        "        \n",
        "    def sigmoid(self, x):\n",
        "        return 1 / (1 + np.exp(-x))\n",
        "    \n",
        "    def fit(self, X, y):\n",
        "        # Initializing the weights and the bias\n",
        "        n_samples, n_features = X.shape\n",
        "        self.weights = np.zeros(n_features)\n",
        "        self.bias = 0\n",
        "        \n",
        "        # Gradient descent algorithm\n",
        "        for i in range(self.max_iter):\n",
        "            # Calculate the linear combination of weights and features\n",
        "            linear_model = np.dot(X, self.weights) + self.bias\n",
        "            \n",
        "            # Apply the sigmoid function to get the predicted probabilities\n",
        "            y_pred = self.sigmoid(linear_model)\n",
        "            \n",
        "            # Compute the gradient of the loss function with respect to the weights and bias\n",
        "            dw = (1 / n_samples) * np.dot(X.T, (y_pred - y))\n",
        "            db = (1 / n_samples) * np.sum(y_pred - y)\n",
        "            \n",
        "            # Update the weights and bias\n",
        "            self.weights -= self.learning_rate * dw\n",
        "            self.bias -= self.learning_rate * db\n",
        "        \n",
        "    def predict(self, X):\n",
        "        # Calculate the linear combination of weights and features\n",
        "        linear_model = np.dot(X, self.weights) + self.bias\n",
        "        \n",
        "        # Apply the sigmoid function to get the predicted probabilities\n",
        "        y_pred = self.sigmoid(linear_model)\n",
        "        \n",
        "        # Convert the probabilities to binary predictions\n",
        "        y_pred_binary = np.where(y_pred >= 0.5, 1, 0)\n",
        "        \n",
        "        return y_pred_binary"
      ],
      "metadata": {
        "id": "HZwCL-VJPx5j"
      },
      "execution_count": null,
      "outputs": []
    },
    {
      "cell_type": "code",
      "source": [
        "# Scale and standardize the features\n",
        "scaler = StandardScaler()\n",
        "X_train = scaler.fit_transform(X_train)\n",
        "X_test = scaler.transform(X_test)"
      ],
      "metadata": {
        "id": "1NnzUV4esaaa"
      },
      "execution_count": null,
      "outputs": []
    },
    {
      "cell_type": "code",
      "source": [
        "# Train a logistic regression model on the training data\n",
        "model = LogisticRegressionGradientDescent(learning_rate=0.01, max_iter=100)\n",
        "model.fit(X_train, y_train)"
      ],
      "metadata": {
        "id": "8QT59uvnsdAg"
      },
      "execution_count": null,
      "outputs": []
    },
    {
      "cell_type": "code",
      "source": [
        "# Predict on the test data\n",
        "y_pred = model.predict(X_test)"
      ],
      "metadata": {
        "id": "ErYIQcUrsjmK"
      },
      "execution_count": null,
      "outputs": []
    },
    {
      "cell_type": "code",
      "source": [
        "# Evaluate the model\n",
        "accuracy = accuracy_score(y_test, y_pred)\n",
        "precision = precision_score(y_test, y_pred)\n",
        "recall = recall_score(y_test, y_pred)\n",
        "cm = confusion_matrix(y_test, y_pred)"
      ],
      "metadata": {
        "id": "5AY-KTAgslYS"
      },
      "execution_count": null,
      "outputs": []
    },
    {
      "cell_type": "code",
      "execution_count": null,
      "metadata": {
        "colab": {
          "base_uri": "https://localhost:8080/"
        },
        "id": "At4OGAVhrOLJ",
        "outputId": "2038b8d5-425d-4dc0-fa8f-1e35c4b35736"
      },
      "outputs": [
        {
          "output_type": "stream",
          "name": "stdout",
          "text": [
            "Accuracy: 0.7077922077922078\n",
            "Precision: 0.5833333333333334\n",
            "Recall: 0.6363636363636364\n",
            "Confusion Matrix:\n",
            "[[74 25]\n",
            " [20 35]]\n"
          ]
        }
      ],
      "source": [
        "# Print the results\n",
        "print(f'Accuracy: {accuracy}')\n",
        "print(f'Precision: {precision}')\n",
        "print(f'Recall: {recall}')\n",
        "print(f'Confusion Matrix:\\n{cm}')\n"
      ]
    },
    {
      "cell_type": "code",
      "source": [
        "# plot the confusion matrix as a heatmap\n",
        "sns.heatmap(cm, annot=True, fmt='d', cmap='Greens')\n",
        "plt.xlabel('Predicted')\n",
        "plt.ylabel('True')\n",
        "plt.show()"
      ],
      "metadata": {
        "colab": {
          "base_uri": "https://localhost:8080/",
          "height": 279
        },
        "id": "KQQgKu09s4CL",
        "outputId": "37b01d5c-4e1b-4daf-e4fd-9a56336668c4"
      },
      "execution_count": null,
      "outputs": [
        {
          "output_type": "display_data",
          "data": {
            "text/plain": [
              "<Figure size 432x288 with 2 Axes>"
            ],
            "image/png": "[encoded data removed]"
          },
          "metadata": {
            "needs_background": "light"
          }
        }
      ]
    }
  ]
}