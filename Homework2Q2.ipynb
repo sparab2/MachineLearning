{
  "nbformat": 4,
  "nbformat_minor": 0,
  "metadata": {
    "colab": {
      "provenance": [],
      "authorship_tag": "ABX9TyMhe3+QKK7wO3PDQZ65XmQI",
      "include_colab_link": true
    },
    "kernelspec": {
      "name": "python3",
      "display_name": "Python 3"
    },
    "language_info": {
      "name": "python"
    }
  },
  "cells": [
    {
      "cell_type": "markdown",
      "metadata": {
        "id": "view-in-github",
        "colab_type": "text"
      },
      "source": [
        "<a href=\"https://colab.research.google.com/github/sparab2/MachineLearning/blob/main/Homework2Q2.ipynb\" target=\"_parent\"><img src=\"https://colab.research.google.com/assets/colab-badge.svg\" alt=\"Open In Colab\"/></a>"
      ]
    },
    {
      "cell_type": "code",
      "source": [
        "import pandas as pd\n",
        "from sklearn.model_selection import KFold\n",
        "from sklearn.linear_model import LogisticRegression\n",
        "from sklearn.preprocessing import StandardScaler\n",
        "from sklearn.metrics import accuracy_score, precision_score, recall_score, confusion_matrix\n",
        "import matplotlib.pyplot as plt\n",
        "import seaborn as sns"
      ],
      "metadata": {
        "id": "uWlEtw7MwUDC"
      },
      "execution_count": null,
      "outputs": []
    },
    {
      "cell_type": "code",
      "source": [
        "# load the dataset\n",
        "df = pd.read_csv('https://raw.githubusercontent.com/sparab2/MachineLearning/main/diabetes.csv')"
      ],
      "metadata": {
        "id": "Gg_387AywaM7"
      },
      "execution_count": null,
      "outputs": []
    },
    {
      "cell_type": "code",
      "source": [
        "# separate features and target\n",
        "X = df.iloc[:, :-1].values\n",
        "y = df.iloc[:, -1].values"
      ],
      "metadata": {
        "id": "z3rrIk8SwcbE"
      },
      "execution_count": null,
      "outputs": []
    },
    {
      "cell_type": "code",
      "source": [
        "# scale and standardize the features\n",
        "sc = StandardScaler()\n",
        "X = sc.fit_transform(X)"
      ],
      "metadata": {
        "id": "POJNBIkUwei7"
      },
      "execution_count": null,
      "outputs": []
    },
    {
      "cell_type": "code",
      "source": [
        "# create k-fold cross-validation objects\n",
        "kf5 = KFold(n_splits=5, shuffle=True, random_state=42)\n",
        "kf10 = KFold(n_splits=10, shuffle=True, random_state=42)"
      ],
      "metadata": {
        "id": "xZZauAypwgTX"
      },
      "execution_count": null,
      "outputs": []
    },
    {
      "cell_type": "code",
      "source": [
        "# initialize variables to store performance metrics\n",
        "acc_scores_5 = []\n",
        "prec_scores_5 = []\n",
        "rec_scores_5 = []\n",
        "conf_matrices_5 = []\n",
        "\n",
        "acc_scores_10 = []\n",
        "prec_scores_10 = []\n",
        "rec_scores_10 = []\n",
        "conf_matrices_10 = []"
      ],
      "metadata": {
        "id": "PnnlO1WRwha_"
      },
      "execution_count": null,
      "outputs": []
    },
    {
      "cell_type": "code",
      "source": [
        "# train and evaluate for k=5\n",
        "for train_index, test_index in kf5.split(X):\n",
        "    X_train, X_test = X[train_index], X[test_index]\n",
        "    y_train, y_test = y[train_index], y[test_index]\n",
        "\n",
        "    # train the model\n",
        "    model = LogisticRegression(random_state=42)\n",
        "    model.fit(X_train, y_train)\n",
        "\n",
        "    # make predictions on test set\n",
        "    y_pred = model.predict(X_test)\n",
        "\n",
        "    # calculate performance metrics\n",
        "    acc_scores_5.append(accuracy_score(y_test, y_pred))\n",
        "    prec_scores_5.append(precision_score(y_test, y_pred))\n",
        "    rec_scores_5.append(recall_score(y_test, y_pred))\n",
        "    conf_matrices_5.append(confusion_matrix(y_test, y_pred))\n"
      ],
      "metadata": {
        "id": "wsxKm87XwrgI"
      },
      "execution_count": null,
      "outputs": []
    },
    {
      "cell_type": "code",
      "source": [
        "# calculate average performance metrics for k=5\n",
        "avg_acc_5 = sum(acc_scores_5) / len(acc_scores_5)\n",
        "avg_prec_5 = sum(prec_scores_5) / len(prec_scores_5)\n",
        "avg_rec_5 = sum(rec_scores_5) / len(rec_scores_5)\n",
        "avg_conf_5 = sum(conf_matrices_5) / len(conf_matrices_5)"
      ],
      "metadata": {
        "id": "Aa4jCxLWw0rQ"
      },
      "execution_count": null,
      "outputs": []
    },
    {
      "cell_type": "code",
      "source": [
        "print(\"K=5 results:\")\n",
        "print(\"Average accuracy:\", avg_acc_5)\n",
        "print(\"Average precision:\", avg_prec_5)\n",
        "print(\"Average recall:\", avg_rec_5)\n",
        "print(\"Average confusion matrix:\\n\", avg_conf_5)"
      ],
      "metadata": {
        "colab": {
          "base_uri": "https://localhost:8080/"
        },
        "id": "uu9ZFDK2w2a2",
        "outputId": "29118475-1cb8-457c-b92d-cecb4c3e67ba"
      },
      "execution_count": null,
      "outputs": [
        {
          "output_type": "stream",
          "name": "stdout",
          "text": [
            "K=5 results:\n",
            "Average accuracy: 0.7682454800101859\n",
            "Average precision: 0.7155969191270859\n",
            "Average recall: 0.5726989972369619\n",
            "Average confusion matrix:\n",
            " [[87.4 12.6]\n",
            " [23.  30.6]]\n"
          ]
        }
      ]
    },
    {
      "cell_type": "code",
      "source": [
        "# plot the confusion matrix for K=5 as a heatmap\n",
        "sns.heatmap(avg_conf_5, annot=True, fmt='g', cmap='Reds')\n",
        "plt.xlabel('Predicted')\n",
        "plt.ylabel('True')\n",
        "plt.show()"
      ],
      "metadata": {
        "colab": {
          "base_uri": "https://localhost:8080/",
          "height": 279
        },
        "id": "ScF-1MpOxi27",
        "outputId": "371b570d-bd64-48a7-f87b-847c1a7d15d1"
      },
      "execution_count": null,
      "outputs": [
        {
          "output_type": "display_data",
          "data": {
            "text/plain": [
              "<Figure size 432x288 with 2 Axes>"
            ],
            "image/png": "[encoded data removed]"
          },
          "metadata": {
            "needs_background": "light"
          }
        }
      ]
    },
    {
      "cell_type": "code",
      "source": [
        "# train and evaluate for k=10\n",
        "for train_index, test_index in kf10.split(X):\n",
        "    X_train, X_test = X[train_index], X[test_index]\n",
        "    y_train, y_test = y[train_index], y[test_index]\n",
        "\n",
        "    # train the model\n",
        "    model = LogisticRegression(random_state=42)\n",
        "    model.fit(X_train, y_train)\n",
        "\n",
        "    # make predictions on test set\n",
        "    y_pred = model.predict(X_test)\n",
        "\n",
        "    # calculate performance metrics\n",
        "    acc_scores_10.append(accuracy_score(y_test, y_pred))\n",
        "    prec_scores_10.append(precision_score(y_test, y_pred))\n",
        "    rec_scores_10.append(recall_score(y_test, y_pred))\n",
        "    conf_matrices_10.append(confusion_matrix(y_test, y_pred))"
      ],
      "metadata": {
        "id": "bTQJrGMuw787"
      },
      "execution_count": null,
      "outputs": []
    },
    {
      "cell_type": "code",
      "source": [
        "# calculate average performance metrics for k=10\n",
        "avg_acc_10 = sum(acc_scores_10) / len(acc_scores_10)\n",
        "avg_prec_10 = sum(prec_scores_10) / len(prec_scores_10)\n",
        "avg_rec_10 = sum(rec_scores_10) / len(rec_scores_10)\n",
        "avg_conf_10 = sum(conf_matrices_10) / len(conf_matrices_10)"
      ],
      "metadata": {
        "id": "xSo53V3xw-vj"
      },
      "execution_count": null,
      "outputs": []
    },
    {
      "cell_type": "code",
      "execution_count": null,
      "metadata": {
        "colab": {
          "base_uri": "https://localhost:8080/"
        },
        "id": "pb8y8FkQvFFN",
        "outputId": "13589628-31ce-4cc6-e406-5f83b71049e6"
      },
      "outputs": [
        {
          "output_type": "stream",
          "name": "stdout",
          "text": [
            "K=10 results:\n",
            "Average accuracy: 0.7707621326042378\n",
            "Average precision: 0.7173983781918565\n",
            "Average recall: 0.5800508774379741\n",
            "Average confusion matrix:\n",
            " [[43.7  6.3]\n",
            " [11.3 15.5]]\n"
          ]
        }
      ],
      "source": [
        "print(\"K=10 results:\")\n",
        "print(\"Average accuracy:\", avg_acc_10)\n",
        "print(\"Average precision:\", avg_prec_10)\n",
        "print(\"Average recall:\", avg_rec_10)\n",
        "print(\"Average confusion matrix:\\n\", avg_conf_10)"
      ]
    },
    {
      "cell_type": "code",
      "source": [
        "# plot the confusion matrix for K=10 as a heatmap\n",
        "sns.heatmap(avg_conf_10, annot=True, fmt='g', cmap='Blues')\n",
        "plt.xlabel('Predicted')\n",
        "plt.ylabel('True')\n",
        "plt.show()"
      ],
      "metadata": {
        "colab": {
          "base_uri": "https://localhost:8080/",
          "height": 279
        },
        "id": "GjGrHEilxekW",
        "outputId": "6078885b-4a02-4853-d053-2ac21f841f40"
      },
      "execution_count": null,
      "outputs": [
        {
          "output_type": "display_data",
          "data": {
            "text/plain": [
              "<Figure size 432x288 with 2 Axes>"
            ],
            "image/png": "[encoded data removed]"
          },
          "metadata": {
            "needs_background": "light"
          }
        }
      ]
    }
  ]
}