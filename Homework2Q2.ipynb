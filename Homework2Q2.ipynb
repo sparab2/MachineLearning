{
  "nbformat": 4,
  "nbformat_minor": 0,
  "metadata": {
    "colab": {
      "provenance": [],
      "authorship_tag": "ABX9TyOgYoA/FNRZ1Ik03iKfDnft",
      "include_colab_link": true
    },
    "kernelspec": {
      "name": "python3",
      "display_name": "Python 3"
    },
    "language_info": {
      "name": "python"
    }
  },
  "cells": [
    {
      "cell_type": "markdown",
      "metadata": {
        "id": "view-in-github",
        "colab_type": "text"
      },
      "source": [
        "<a href=\"https://colab.research.google.com/github/sparab2/MachineLearning/blob/main/Homework2Q2.ipynb\" target=\"_parent\"><img src=\"https://colab.research.google.com/assets/colab-badge.svg\" alt=\"Open In Colab\"/></a>"
      ]
    },
    {
      "cell_type": "code",
      "source": [
        "import pandas as pd\n",
        "from sklearn.model_selection import KFold\n",
        "from sklearn.linear_model import LogisticRegression\n",
        "from sklearn.preprocessing import StandardScaler\n",
        "from sklearn.metrics import accuracy_score, precision_score, recall_score, confusion_matrix\n",
        "import matplotlib.pyplot as plt\n",
        "import seaborn as sns\n",
        "import numpy as np"
      ],
      "metadata": {
        "id": "uWlEtw7MwUDC"
      },
      "execution_count": 41,
      "outputs": []
    },
    {
      "cell_type": "code",
      "source": [
        "# load the dataset\n",
        "df = pd.read_csv('https://raw.githubusercontent.com/sparab2/MachineLearning/main/diabetes.csv')"
      ],
      "metadata": {
        "id": "Gg_387AywaM7"
      },
      "execution_count": 42,
      "outputs": []
    },
    {
      "cell_type": "code",
      "source": [
        "# separate features and target\n",
        "X = df.iloc[:, :-1].values\n",
        "y = df.iloc[:, -1].values"
      ],
      "metadata": {
        "id": "z3rrIk8SwcbE"
      },
      "execution_count": 43,
      "outputs": []
    },
    {
      "cell_type": "code",
      "source": [
        "class LogisticRegressionGradientDescent:\n",
        "    def __init__(self, learning_rate=0.01, max_iter=100):\n",
        "        self.learning_rate = learning_rate\n",
        "        self.max_iter = max_iter\n",
        "        self.weights = None\n",
        "        self.bias = None\n",
        "        \n",
        "    def sigmoid(self, x):\n",
        "        return 1 / (1 + np.exp(-x))\n",
        "    \n",
        "    def fit(self, X, y):\n",
        "        # Initializing the weights and the bias\n",
        "        n_samples, n_features = X.shape\n",
        "        self.weights = np.zeros(n_features)\n",
        "        self.bias = 0\n",
        "        \n",
        "        # Gradient descent algorithm\n",
        "        for i in range(self.max_iter):\n",
        "            # Calculate the linear combination of weights and features\n",
        "            linear_model = np.dot(X, self.weights) + self.bias\n",
        "            \n",
        "            # Apply the sigmoid function to get the predicted probabilities\n",
        "            y_pred = self.sigmoid(linear_model)\n",
        "            \n",
        "            # Compute the gradient of the loss function with respect to the weights and bias\n",
        "            dw = (1 / n_samples) * np.dot(X.T, (y_pred - y))\n",
        "            db = (1 / n_samples) * np.sum(y_pred - y)\n",
        "            \n",
        "            # Update the weights and bias\n",
        "            self.weights -= self.learning_rate * dw\n",
        "            self.bias -= self.learning_rate * db\n",
        "        \n",
        "    def predict(self, X):\n",
        "        # Calculate the linear combination of weights and features\n",
        "        linear_model = np.dot(X, self.weights) + self.bias\n",
        "        \n",
        "        # Apply the sigmoid function to get the predicted probabilities\n",
        "        y_pred = self.sigmoid(linear_model)\n",
        "        \n",
        "        # Convert the probabilities to binary predictions\n",
        "        y_pred_binary = np.where(y_pred >= 0.5, 1, 0)\n",
        "        \n",
        "        return y_pred_binary"
      ],
      "metadata": {
        "id": "gUIQOyFWS88L"
      },
      "execution_count": 44,
      "outputs": []
    },
    {
      "cell_type": "code",
      "source": [
        "# scale and standardize the features\n",
        "sc = StandardScaler()\n",
        "X = sc.fit_transform(X)"
      ],
      "metadata": {
        "id": "POJNBIkUwei7"
      },
      "execution_count": 45,
      "outputs": []
    },
    {
      "cell_type": "code",
      "source": [
        "# create k-fold cross-validation objects\n",
        "kf5 = KFold(n_splits=5, shuffle=True, random_state=42)\n",
        "kf10 = KFold(n_splits=10, shuffle=True, random_state=42)"
      ],
      "metadata": {
        "id": "xZZauAypwgTX"
      },
      "execution_count": 46,
      "outputs": []
    },
    {
      "cell_type": "code",
      "source": [
        "# initialize variables to store performance metrics\n",
        "acc_scores_5 = []\n",
        "prec_scores_5 = []\n",
        "rec_scores_5 = []\n",
        "conf_matrices_5 = []\n",
        "\n",
        "acc_scores_10 = []\n",
        "prec_scores_10 = []\n",
        "rec_scores_10 = []\n",
        "conf_matrices_10 = []"
      ],
      "metadata": {
        "id": "PnnlO1WRwha_"
      },
      "execution_count": 47,
      "outputs": []
    },
    {
      "cell_type": "code",
      "source": [
        "# train and evaluate for k=5\n",
        "for train_index, test_index in kf5.split(X):\n",
        "    X_train, X_test = X[train_index], X[test_index]\n",
        "    y_train, y_test = y[train_index], y[test_index]\n",
        "\n",
        "    # train the model\n",
        "    model = LogisticRegressionGradientDescent(learning_rate=0.01, max_iter=100)\n",
        "    model.fit(X_train, y_train)\n",
        "\n",
        "    # make predictions on test set\n",
        "    y_pred = model.predict(X_test)\n",
        "\n",
        "    # calculate performance metrics\n",
        "    acc_scores_5.append(accuracy_score(y_test, y_pred))\n",
        "    prec_scores_5.append(precision_score(y_test, y_pred))\n",
        "    rec_scores_5.append(recall_score(y_test, y_pred))\n",
        "    conf_matrices_5.append(confusion_matrix(y_test, y_pred))\n"
      ],
      "metadata": {
        "id": "wsxKm87XwrgI"
      },
      "execution_count": 48,
      "outputs": []
    },
    {
      "cell_type": "code",
      "source": [
        "# calculate average performance metrics for k=5\n",
        "avg_acc_5 = sum(acc_scores_5) / len(acc_scores_5)\n",
        "avg_prec_5 = sum(prec_scores_5) / len(prec_scores_5)\n",
        "avg_rec_5 = sum(rec_scores_5) / len(rec_scores_5)\n",
        "avg_conf_5 = sum(conf_matrices_5) / len(conf_matrices_5)"
      ],
      "metadata": {
        "id": "Aa4jCxLWw0rQ"
      },
      "execution_count": 49,
      "outputs": []
    },
    {
      "cell_type": "code",
      "source": [
        "print(\"K=5 results:\")\n",
        "print(\"Average accuracy:\", avg_acc_5)\n",
        "print(\"Average precision:\", avg_prec_5)\n",
        "print(\"Average recall:\", avg_rec_5)\n",
        "print(\"Average confusion matrix:\\n\", avg_conf_5)"
      ],
      "metadata": {
        "colab": {
          "base_uri": "https://localhost:8080/"
        },
        "id": "uu9ZFDK2w2a2",
        "outputId": "27d60c60-d71d-4d30-a527-c9baced3631e"
      },
      "execution_count": 50,
      "outputs": [
        {
          "output_type": "stream",
          "name": "stdout",
          "text": [
            "K=5 results:\n",
            "Average accuracy: 0.7513199219081572\n",
            "Average precision: 0.6524455782312926\n",
            "Average recall: 0.6271837239892277\n",
            "Average confusion matrix:\n",
            " [[82.  18. ]\n",
            " [20.2 33.4]]\n"
          ]
        }
      ]
    },
    {
      "cell_type": "code",
      "source": [
        "# plot the confusion matrix for K=5 as a heatmap\n",
        "sns.heatmap(avg_conf_5, annot=True, fmt='g', cmap='Reds')\n",
        "plt.xlabel('Predicted')\n",
        "plt.ylabel('True')\n",
        "plt.show()"
      ],
      "metadata": {
        "colab": {
          "base_uri": "https://localhost:8080/",
          "height": 279
        },
        "id": "ScF-1MpOxi27",
        "outputId": "f0fe0606-2f8e-4a6b-effc-c8ce6c12c6a5"
      },
      "execution_count": 51,
      "outputs": [
        {
          "output_type": "display_data",
          "data": {
            "text/plain": [
              "<Figure size 432x288 with 2 Axes>"
            ],
            "image/png": "[encoded data removed]"
          },
          "metadata": {
            "needs_background": "light"
          }
        }
      ]
    },
    {
      "cell_type": "code",
      "source": [
        "# train and evaluate for k=10\n",
        "for train_index, test_index in kf10.split(X):\n",
        "    X_train, X_test = X[train_index], X[test_index]\n",
        "    y_train, y_test = y[train_index], y[test_index]\n",
        "\n",
        "    # train the model\n",
        "    model = LogisticRegressionGradientDescent(learning_rate=0.01, max_iter=100)\n",
        "    model.fit(X_train, y_train)\n",
        "\n",
        "    # make predictions on test set\n",
        "    y_pred = model.predict(X_test)\n",
        "\n",
        "    # calculate performance metrics\n",
        "    acc_scores_10.append(accuracy_score(y_test, y_pred))\n",
        "    prec_scores_10.append(precision_score(y_test, y_pred))\n",
        "    rec_scores_10.append(recall_score(y_test, y_pred))\n",
        "    conf_matrices_10.append(confusion_matrix(y_test, y_pred))"
      ],
      "metadata": {
        "id": "bTQJrGMuw787"
      },
      "execution_count": 52,
      "outputs": []
    },
    {
      "cell_type": "code",
      "source": [
        "# calculate average performance metrics for k=10\n",
        "avg_acc_10 = sum(acc_scores_10) / len(acc_scores_10)\n",
        "avg_prec_10 = sum(prec_scores_10) / len(prec_scores_10)\n",
        "avg_rec_10 = sum(rec_scores_10) / len(rec_scores_10)\n",
        "avg_conf_10 = sum(conf_matrices_10) / len(conf_matrices_10)"
      ],
      "metadata": {
        "id": "xSo53V3xw-vj"
      },
      "execution_count": 53,
      "outputs": []
    },
    {
      "cell_type": "code",
      "execution_count": 54,
      "metadata": {
        "colab": {
          "base_uri": "https://localhost:8080/"
        },
        "id": "pb8y8FkQvFFN",
        "outputId": "8b205be4-97bd-484b-9972-ebb34fc0474d"
      },
      "outputs": [
        {
          "output_type": "stream",
          "name": "stdout",
          "text": [
            "K=10 results:\n",
            "Average accuracy: 0.7525290498974709\n",
            "Average precision: 0.6500708180708181\n",
            "Average recall: 0.6243957082344179\n",
            "Average confusion matrix:\n",
            " [[41.   9. ]\n",
            " [10.  16.8]]\n"
          ]
        }
      ],
      "source": [
        "print(\"K=10 results:\")\n",
        "print(\"Average accuracy:\", avg_acc_10)\n",
        "print(\"Average precision:\", avg_prec_10)\n",
        "print(\"Average recall:\", avg_rec_10)\n",
        "print(\"Average confusion matrix:\\n\", avg_conf_10)"
      ]
    },
    {
      "cell_type": "code",
      "source": [
        "# plot the confusion matrix for K=10 as a heatmap\n",
        "sns.heatmap(avg_conf_10, annot=True, fmt='g', cmap='Blues')\n",
        "plt.xlabel('Predicted')\n",
        "plt.ylabel('True')\n",
        "plt.show()"
      ],
      "metadata": {
        "colab": {
          "base_uri": "https://localhost:8080/",
          "height": 279
        },
        "id": "GjGrHEilxekW",
        "outputId": "1a8234fa-7701-4455-9a5b-e1088b37ca20"
      },
      "execution_count": 55,
      "outputs": [
        {
          "output_type": "display_data",
          "data": {
            "text/plain": [
              "<Figure size 432x288 with 2 Axes>"
            ],
            "image/png": "[encoded data removed]"
          },
          "metadata": {
            "needs_background": "light"
          }
        }
      ]
    }
  ]
}